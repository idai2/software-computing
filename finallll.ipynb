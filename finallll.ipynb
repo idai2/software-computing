{
  "cells": [
    {
      "cell_type": "markdown",
      "metadata": {
        "id": "view-in-github",
        "colab_type": "text"
      },
      "source": [
        "<a href=\"https://colab.research.google.com/github/idai2/software-computing/blob/main/finallll.ipynb\" target=\"_parent\"><img src=\"https://colab.research.google.com/assets/colab-badge.svg\" alt=\"Open In Colab\"/></a>"
      ]
    },
    {
      "cell_type": "markdown",
      "source": [
        "The Analysis Of Brain NMR\n",
        " From \n",
        "Sickle Cell Disease Patients”\n",
        "\n",
        "Software and computing for applied physics\n",
        "\n"
      ],
      "metadata": {
        "id": "nu02axiQQkHX"
      }
    },
    {
      "cell_type": "code",
      "execution_count": 1,
      "metadata": {
        "id": "tbZxCQKIHxzx",
        "colab": {
          "base_uri": "https://localhost:8080/"
        },
        "outputId": "d6be082d-ce4e-41bf-de04-2f7eb894b093"
      },
      "outputs": [
        {
          "output_type": "execute_result",
          "data": {
            "text/plain": [
              "[name: \"/device:CPU:0\"\n",
              " device_type: \"CPU\"\n",
              " memory_limit: 268435456\n",
              " locality {\n",
              " }\n",
              " incarnation: 8905424367142377810\n",
              " xla_global_id: -1]"
            ]
          },
          "metadata": {},
          "execution_count": 1
        }
      ],
      "source": [
        "from tensorflow.python.client import device_lib\n",
        "device_lib.list_local_devices()"
      ]
    },
    {
      "cell_type": "code",
      "execution_count": 2,
      "metadata": {
        "id": "sD2tH_buDiwU",
        "colab": {
          "base_uri": "https://localhost:8080/"
        },
        "outputId": "61d20643-dd5e-4bf1-d7db-a1ebf6d34d35"
      },
      "outputs": [
        {
          "output_type": "stream",
          "name": "stdout",
          "text": [
            "Mounted at /content/drive\n"
          ]
        }
      ],
      "source": [
        "from google.colab import drive\n",
        "drive.mount('/content/drive')"
      ]
    },
    {
      "cell_type": "code",
      "execution_count": 3,
      "metadata": {
        "id": "XIHsEJuO50TA",
        "colab": {
          "base_uri": "https://localhost:8080/"
        },
        "outputId": "bea94c64-3ccb-4df9-efb8-c3864946f132"
      },
      "outputs": [
        {
          "output_type": "stream",
          "name": "stdout",
          "text": [
            "/content/drive/MyDrive/idaproject\n"
          ]
        }
      ],
      "source": [
        "cd drive/MyDrive/idaproject"
      ]
    },
    {
      "cell_type": "code",
      "source": [
        "# some  packages we need\n",
        "import os\n",
        "import numpy as np\n",
        "import matplotlib.pyplot as plt\n",
        "%matplotlib inline\n",
        "import nibabel as nib "
      ],
      "metadata": {
        "id": "IFA7JDV7v1cn"
      },
      "execution_count": 4,
      "outputs": []
    },
    {
      "cell_type": "code",
      "source": [
        "mri_file = 'smask_ref.nii'\n",
        "img = nib.load(mri_file)\n",
        "mrii_file = 'FLAIR.nii'\n",
        "img1 = nib.load(mrii_file)"
      ],
      "metadata": {
        "id": "1vFO3Ra_wF83"
      },
      "execution_count": 5,
      "outputs": []
    },
    {
      "cell_type": "code",
      "source": [
        "print(type(img))"
      ],
      "metadata": {
        "colab": {
          "base_uri": "https://localhost:8080/"
        },
        "id": "I7chmmkywpWF",
        "outputId": "1c02c740-a661-4eb8-d221-e82446ca0be8"
      },
      "execution_count": 6,
      "outputs": [
        {
          "output_type": "stream",
          "name": "stdout",
          "text": [
            "<class 'nibabel.nifti1.Nifti1Image'>\n"
          ]
        }
      ]
    },
    {
      "cell_type": "code",
      "source": [
        "print(img.shape)"
      ],
      "metadata": {
        "colab": {
          "base_uri": "https://localhost:8080/"
        },
        "id": "d-rKeOIUwuDg",
        "outputId": "3230aa54-78ff-419c-f9b2-7e0124ae8f41"
      },
      "execution_count": 7,
      "outputs": [
        {
          "output_type": "stream",
          "name": "stdout",
          "text": [
            "(181, 217, 181)\n"
          ]
        }
      ]
    },
    {
      "cell_type": "code",
      "source": [
        "img_data = img.get_fdata()\n",
        "print(type(img_data))  # it's a numpy array!\n",
        "print(img_data.shape)\n",
        "img1_data = img1.get_fdata()\n",
        "print(img1_data.shape)\n"
      ],
      "metadata": {
        "colab": {
          "base_uri": "https://localhost:8080/"
        },
        "id": "qzZqVRQtw9oU",
        "outputId": "8eb174d9-4cf5-4e14-f7e1-028a7b636f06"
      },
      "execution_count": 8,
      "outputs": [
        {
          "output_type": "stream",
          "name": "stdout",
          "text": [
            "<class 'numpy.memmap'>\n",
            "(181, 217, 181)\n",
            "(181, 217, 181)\n"
          ]
        }
      ]
    },
    {
      "cell_type": "code",
      "source": [
        "\n",
        "gm_array=img1_data[img_data==2]\n",
        "print('gm_array', gm_array)\n"
      ],
      "metadata": {
        "colab": {
          "base_uri": "https://localhost:8080/"
        },
        "id": "xImt_5lCzJBw",
        "outputId": "2a8feb9a-2d8c-45c6-ca0c-5cd7384e1664"
      },
      "execution_count": 9,
      "outputs": [
        {
          "output_type": "stream",
          "name": "stdout",
          "text": [
            "gm_array [28496.20117188 24637.03320312 30497.71875    ... 15178.08691406\n",
            "  8334.09765625  5097.46630859]\n"
          ]
        }
      ]
    },
    {
      "cell_type": "code",
      "source": [
        "binary_mask = (img_data==3).astype(np.uint8)\n",
        "print(binary_mask)"
      ],
      "metadata": {
        "colab": {
          "base_uri": "https://localhost:8080/"
        },
        "id": "8xau7I0dBG37",
        "outputId": "b16c010f-8bcb-48aa-ace9-c0472297d1e2"
      },
      "execution_count": 10,
      "outputs": [
        {
          "output_type": "stream",
          "name": "stdout",
          "text": [
            "[[[0 0 0 ... 0 0 0]\n",
            "  [0 0 0 ... 0 0 0]\n",
            "  [0 0 0 ... 0 0 0]\n",
            "  ...\n",
            "  [0 0 0 ... 0 0 0]\n",
            "  [0 0 0 ... 0 0 0]\n",
            "  [0 0 0 ... 0 0 0]]\n",
            "\n",
            " [[0 0 0 ... 0 0 0]\n",
            "  [0 0 0 ... 0 0 0]\n",
            "  [0 0 0 ... 0 0 0]\n",
            "  ...\n",
            "  [0 0 0 ... 0 0 0]\n",
            "  [0 0 0 ... 0 0 0]\n",
            "  [0 0 0 ... 0 0 0]]\n",
            "\n",
            " [[0 0 0 ... 0 0 0]\n",
            "  [0 0 0 ... 0 0 0]\n",
            "  [0 0 0 ... 0 0 0]\n",
            "  ...\n",
            "  [0 0 0 ... 0 0 0]\n",
            "  [0 0 0 ... 0 0 0]\n",
            "  [0 0 0 ... 0 0 0]]\n",
            "\n",
            " ...\n",
            "\n",
            " [[0 0 0 ... 0 0 0]\n",
            "  [0 0 0 ... 0 0 0]\n",
            "  [0 0 0 ... 0 0 0]\n",
            "  ...\n",
            "  [0 0 0 ... 0 0 0]\n",
            "  [0 0 0 ... 0 0 0]\n",
            "  [0 0 0 ... 0 0 0]]\n",
            "\n",
            " [[0 0 0 ... 0 0 0]\n",
            "  [0 0 0 ... 0 0 0]\n",
            "  [0 0 0 ... 0 0 0]\n",
            "  ...\n",
            "  [0 0 0 ... 0 0 0]\n",
            "  [0 0 0 ... 0 0 0]\n",
            "  [0 0 0 ... 0 0 0]]\n",
            "\n",
            " [[0 0 0 ... 0 0 0]\n",
            "  [0 0 0 ... 0 0 0]\n",
            "  [0 0 0 ... 0 0 0]\n",
            "  ...\n",
            "  [0 0 0 ... 0 0 0]\n",
            "  [0 0 0 ... 0 0 0]\n",
            "  [0 0 0 ... 0 0 0]]]\n"
          ]
        }
      ]
    },
    {
      "cell_type": "code",
      "source": [
        "final_gm_array = binary_mask*img1_data\n",
        "print('final_gm_array', final_gm_array)\n"
      ],
      "metadata": {
        "id": "nQA_nvF_D7qL",
        "colab": {
          "base_uri": "https://localhost:8080/"
        },
        "outputId": "e16238ad-43b9-41fe-c974-35117bd9b5cb"
      },
      "execution_count": 11,
      "outputs": [
        {
          "output_type": "stream",
          "name": "stdout",
          "text": [
            "final_gm_array [[[0. 0. 0. ... 0. 0. 0.]\n",
            "  [0. 0. 0. ... 0. 0. 0.]\n",
            "  [0. 0. 0. ... 0. 0. 0.]\n",
            "  ...\n",
            "  [0. 0. 0. ... 0. 0. 0.]\n",
            "  [0. 0. 0. ... 0. 0. 0.]\n",
            "  [0. 0. 0. ... 0. 0. 0.]]\n",
            "\n",
            " [[0. 0. 0. ... 0. 0. 0.]\n",
            "  [0. 0. 0. ... 0. 0. 0.]\n",
            "  [0. 0. 0. ... 0. 0. 0.]\n",
            "  ...\n",
            "  [0. 0. 0. ... 0. 0. 0.]\n",
            "  [0. 0. 0. ... 0. 0. 0.]\n",
            "  [0. 0. 0. ... 0. 0. 0.]]\n",
            "\n",
            " [[0. 0. 0. ... 0. 0. 0.]\n",
            "  [0. 0. 0. ... 0. 0. 0.]\n",
            "  [0. 0. 0. ... 0. 0. 0.]\n",
            "  ...\n",
            "  [0. 0. 0. ... 0. 0. 0.]\n",
            "  [0. 0. 0. ... 0. 0. 0.]\n",
            "  [0. 0. 0. ... 0. 0. 0.]]\n",
            "\n",
            " ...\n",
            "\n",
            " [[0. 0. 0. ... 0. 0. 0.]\n",
            "  [0. 0. 0. ... 0. 0. 0.]\n",
            "  [0. 0. 0. ... 0. 0. 0.]\n",
            "  ...\n",
            "  [0. 0. 0. ... 0. 0. 0.]\n",
            "  [0. 0. 0. ... 0. 0. 0.]\n",
            "  [0. 0. 0. ... 0. 0. 0.]]\n",
            "\n",
            " [[0. 0. 0. ... 0. 0. 0.]\n",
            "  [0. 0. 0. ... 0. 0. 0.]\n",
            "  [0. 0. 0. ... 0. 0. 0.]\n",
            "  ...\n",
            "  [0. 0. 0. ... 0. 0. 0.]\n",
            "  [0. 0. 0. ... 0. 0. 0.]\n",
            "  [0. 0. 0. ... 0. 0. 0.]]\n",
            "\n",
            " [[0. 0. 0. ... 0. 0. 0.]\n",
            "  [0. 0. 0. ... 0. 0. 0.]\n",
            "  [0. 0. 0. ... 0. 0. 0.]\n",
            "  ...\n",
            "  [0. 0. 0. ... 0. 0. 0.]\n",
            "  [0. 0. 0. ... 0. 0. 0.]\n",
            "  [0. 0. 0. ... 0. 0. 0.]]]\n"
          ]
        }
      ]
    },
    {
      "cell_type": "code",
      "execution_count": 13,
      "metadata": {
        "colab": {
          "base_uri": "https://localhost:8080/",
          "height": 1000
        },
        "outputId": "bfa21d3c-de8d-468a-a756-908fd9582f30",
        "id": "L2HwiH7O_7Da"
      },
      "outputs": [
        {
          "output_type": "stream",
          "name": "stdout",
          "text": [
            "y [5.000e+00 9.000e+00 6.000e+00 6.000e+00 1.300e+01 5.000e+00 4.000e+00\n",
            " 1.500e+01 8.000e+00 1.000e+01 1.000e+01 1.600e+01 8.000e+00 7.000e+00\n",
            " 1.100e+01 9.000e+00 1.200e+01 6.000e+00 1.500e+01 9.000e+00 1.900e+01\n",
            " 1.500e+01 1.500e+01 1.700e+01 7.000e+00 1.000e+01 1.200e+01 1.900e+01\n",
            " 1.700e+01 1.800e+01 1.900e+01 1.200e+01 2.700e+01 2.300e+01 2.400e+01\n",
            " 2.800e+01 2.400e+01 2.600e+01 2.900e+01 2.400e+01 3.100e+01 3.200e+01\n",
            " 2.000e+01 3.300e+01 2.400e+01 2.600e+01 2.900e+01 3.200e+01 2.700e+01\n",
            " 3.600e+01 3.200e+01 3.500e+01 3.900e+01 4.800e+01 3.300e+01 3.500e+01\n",
            " 4.400e+01 3.700e+01 4.500e+01 5.200e+01 4.800e+01 4.100e+01 5.100e+01\n",
            " 5.200e+01 4.300e+01 5.000e+01 6.300e+01 5.100e+01 5.600e+01 6.900e+01\n",
            " 5.400e+01 5.700e+01 7.200e+01 5.500e+01 5.300e+01 5.800e+01 5.000e+01\n",
            " 7.800e+01 6.800e+01 8.000e+01 7.000e+01 7.000e+01 7.500e+01 8.700e+01\n",
            " 6.800e+01 1.260e+02 1.080e+02 1.010e+02 1.020e+02 8.500e+01 1.020e+02\n",
            " 1.140e+02 1.060e+02 1.230e+02 1.120e+02 1.130e+02 1.330e+02 1.180e+02\n",
            " 1.290e+02 1.410e+02 1.410e+02 1.430e+02 1.400e+02 1.350e+02 1.490e+02\n",
            " 1.610e+02 1.530e+02 1.620e+02 1.700e+02 1.440e+02 1.690e+02 1.510e+02\n",
            " 1.670e+02 1.670e+02 1.630e+02 1.920e+02 1.640e+02 1.700e+02 1.700e+02\n",
            " 1.710e+02 2.080e+02 2.110e+02 1.870e+02 1.860e+02 2.060e+02 2.160e+02\n",
            " 2.060e+02 2.080e+02 2.370e+02 2.110e+02 2.290e+02 2.350e+02 2.190e+02\n",
            " 2.730e+02 2.620e+02 2.970e+02 3.190e+02 3.040e+02 3.140e+02 3.450e+02\n",
            " 3.440e+02 3.620e+02 3.940e+02 3.870e+02 4.130e+02 4.490e+02 5.300e+02\n",
            " 4.870e+02 5.560e+02 5.430e+02 5.790e+02 6.410e+02 6.800e+02 7.950e+02\n",
            " 7.400e+02 8.640e+02 9.010e+02 9.710e+02 1.087e+03 1.145e+03 1.242e+03\n",
            " 1.250e+03 1.383e+03 1.440e+03 1.568e+03 1.745e+03 1.792e+03 1.926e+03\n",
            " 2.029e+03 2.152e+03 2.321e+03 2.428e+03 2.484e+03 2.713e+03 2.937e+03\n",
            " 3.077e+03 3.207e+03 3.289e+03 3.568e+03 3.647e+03 3.889e+03 4.072e+03\n",
            " 4.211e+03 4.401e+03 4.553e+03 4.635e+03 4.958e+03 5.048e+03 5.191e+03\n",
            " 5.438e+03 5.518e+03 5.494e+03 5.819e+03 5.819e+03 6.017e+03 6.324e+03\n",
            " 6.330e+03 6.514e+03 6.596e+03 6.571e+03 6.826e+03 6.626e+03 6.803e+03\n",
            " 6.755e+03 6.812e+03 6.737e+03 6.796e+03 6.647e+03 6.723e+03 6.728e+03\n",
            " 6.575e+03 6.428e+03 6.279e+03 6.277e+03 6.231e+03 6.044e+03 5.935e+03\n",
            " 5.849e+03 5.810e+03 5.635e+03 5.434e+03 5.425e+03 5.202e+03 5.104e+03\n",
            " 4.902e+03 4.830e+03 4.729e+03 4.394e+03 4.295e+03 4.144e+03 4.107e+03\n",
            " 3.835e+03 3.826e+03 3.713e+03 3.482e+03 3.403e+03 3.227e+03 3.064e+03\n",
            " 3.011e+03 2.960e+03 2.773e+03 2.734e+03 2.618e+03 2.454e+03 2.389e+03\n",
            " 2.335e+03 2.193e+03 2.134e+03 2.023e+03 1.905e+03 1.901e+03 1.763e+03\n",
            " 1.695e+03 1.738e+03 1.614e+03 1.604e+03 1.591e+03 1.380e+03 1.344e+03\n",
            " 1.329e+03 1.300e+03 1.236e+03 1.215e+03 1.168e+03 1.130e+03 1.111e+03\n",
            " 1.066e+03 9.640e+02 9.270e+02 9.230e+02 8.760e+02 7.930e+02 8.350e+02\n",
            " 8.130e+02 7.120e+02 7.440e+02 7.580e+02 6.940e+02 7.010e+02 6.320e+02\n",
            " 6.400e+02 6.040e+02 6.220e+02 5.760e+02 5.120e+02 5.160e+02 4.980e+02\n",
            " 4.590e+02 4.770e+02 4.560e+02 4.570e+02 4.430e+02 3.970e+02 4.420e+02\n",
            " 3.900e+02 3.870e+02 3.330e+02 3.430e+02 3.050e+02 3.450e+02 2.970e+02\n",
            " 3.060e+02 2.650e+02 2.820e+02 2.750e+02 2.580e+02 2.810e+02 2.590e+02\n",
            " 2.080e+02 2.150e+02 2.360e+02 2.120e+02 2.120e+02 1.970e+02 1.830e+02\n",
            " 2.230e+02 1.610e+02 2.060e+02 1.540e+02 1.650e+02 1.550e+02 1.600e+02\n",
            " 1.450e+02 1.260e+02 1.430e+02 1.140e+02 1.440e+02 1.110e+02 1.100e+02\n",
            " 1.170e+02 1.350e+02 1.160e+02 1.150e+02 1.040e+02 8.200e+01 9.500e+01\n",
            " 1.080e+02 8.800e+01 8.800e+01 8.600e+01 7.100e+01 7.600e+01 7.300e+01\n",
            " 5.800e+01 7.600e+01 6.500e+01 7.700e+01 6.900e+01 7.100e+01 4.900e+01\n",
            " 5.100e+01 5.000e+01 4.900e+01 5.100e+01 5.900e+01 5.700e+01 3.800e+01\n",
            " 4.100e+01 3.900e+01 4.500e+01 4.500e+01 3.200e+01 4.000e+01 3.000e+01\n",
            " 4.400e+01 4.400e+01 3.300e+01 4.500e+01 2.900e+01 2.700e+01 2.400e+01\n",
            " 2.700e+01 2.400e+01 2.700e+01 2.600e+01 2.600e+01 2.300e+01 2.200e+01\n",
            " 2.100e+01 2.500e+01 1.200e+01 1.800e+01 1.400e+01 1.800e+01 1.500e+01\n",
            " 1.200e+01 1.400e+01 9.000e+00 1.600e+01 1.100e+01 9.000e+00 7.000e+00\n",
            " 1.100e+01 1.400e+01 1.300e+01 1.000e+01 8.000e+00 5.000e+00 1.400e+01\n",
            " 7.000e+00 5.000e+00 7.000e+00 2.000e+00 5.000e+00 7.000e+00 8.000e+00\n",
            " 6.000e+00 5.000e+00 7.000e+00 4.000e+00 6.000e+00 7.000e+00 2.000e+00\n",
            " 6.000e+00 7.000e+00 0.000e+00 3.000e+00 1.000e+00 6.000e+00 4.000e+00\n",
            " 2.000e+00 4.000e+00 4.000e+00 3.000e+00 3.000e+00 1.000e+00 0.000e+00\n",
            " 3.000e+00]\n",
            "x [ 8000.          8086.44859813  8172.89719626  8259.34579439\n",
            "  8345.79439252  8432.24299065  8518.69158879  8605.14018692\n",
            "  8691.58878505  8778.03738318  8864.48598131  8950.93457944\n",
            "  9037.38317757  9123.8317757   9210.28037383  9296.72897196\n",
            "  9383.17757009  9469.62616822  9556.07476636  9642.52336449\n",
            "  9728.97196262  9815.42056075  9901.86915888  9988.31775701\n",
            " 10074.76635514 10161.21495327 10247.6635514  10334.11214953\n",
            " 10420.56074766 10507.00934579 10593.45794393 10679.90654206\n",
            " 10766.35514019 10852.80373832 10939.25233645 11025.70093458\n",
            " 11112.14953271 11198.59813084 11285.04672897 11371.4953271\n",
            " 11457.94392523 11544.39252336 11630.8411215  11717.28971963\n",
            " 11803.73831776 11890.18691589 11976.63551402 12063.08411215\n",
            " 12149.53271028 12235.98130841 12322.42990654 12408.87850467\n",
            " 12495.3271028  12581.77570093 12668.22429907 12754.6728972\n",
            " 12841.12149533 12927.57009346 13014.01869159 13100.46728972\n",
            " 13186.91588785 13273.36448598 13359.81308411 13446.26168224\n",
            " 13532.71028037 13619.1588785  13705.60747664 13792.05607477\n",
            " 13878.5046729  13964.95327103 14051.40186916 14137.85046729\n",
            " 14224.29906542 14310.74766355 14397.19626168 14483.64485981\n",
            " 14570.09345794 14656.54205607 14742.99065421 14829.43925234\n",
            " 14915.88785047 15002.3364486  15088.78504673 15175.23364486\n",
            " 15261.68224299 15348.13084112 15434.57943925 15521.02803738\n",
            " 15607.47663551 15693.92523364 15780.37383178 15866.82242991\n",
            " 15953.27102804 16039.71962617 16126.1682243  16212.61682243\n",
            " 16299.06542056 16385.51401869 16471.96261682 16558.41121495\n",
            " 16644.85981308 16731.30841121 16817.75700935 16904.20560748\n",
            " 16990.65420561 17077.10280374 17163.55140187 17250.\n",
            " 17336.44859813 17422.89719626 17509.34579439 17595.79439252\n",
            " 17682.24299065 17768.69158879 17855.14018692 17941.58878505\n",
            " 18028.03738318 18114.48598131 18200.93457944 18287.38317757\n",
            " 18373.8317757  18460.28037383 18546.72897196 18633.17757009\n",
            " 18719.62616822 18806.07476636 18892.52336449 18978.97196262\n",
            " 19065.42056075 19151.86915888 19238.31775701 19324.76635514\n",
            " 19411.21495327 19497.6635514  19584.11214953 19670.56074766\n",
            " 19757.00934579 19843.45794393 19929.90654206 20016.35514019\n",
            " 20102.80373832 20189.25233645 20275.70093458 20362.14953271\n",
            " 20448.59813084 20535.04672897 20621.4953271  20707.94392523\n",
            " 20794.39252336 20880.8411215  20967.28971963 21053.73831776\n",
            " 21140.18691589 21226.63551402 21313.08411215 21399.53271028\n",
            " 21485.98130841 21572.42990654 21658.87850467 21745.3271028\n",
            " 21831.77570093 21918.22429907 22004.6728972  22091.12149533\n",
            " 22177.57009346 22264.01869159 22350.46728972 22436.91588785\n",
            " 22523.36448598 22609.81308411 22696.26168224 22782.71028037\n",
            " 22869.1588785  22955.60747664 23042.05607477 23128.5046729\n",
            " 23214.95327103 23301.40186916 23387.85046729 23474.29906542\n",
            " 23560.74766355 23647.19626168 23733.64485981 23820.09345794\n",
            " 23906.54205607 23992.99065421 24079.43925234 24165.88785047\n",
            " 24252.3364486  24338.78504673 24425.23364486 24511.68224299\n",
            " 24598.13084112 24684.57943925 24771.02803738 24857.47663551\n",
            " 24943.92523364 25030.37383178 25116.82242991 25203.27102804\n",
            " 25289.71962617 25376.1682243  25462.61682243 25549.06542056\n",
            " 25635.51401869 25721.96261682 25808.41121495 25894.85981308\n",
            " 25981.30841121 26067.75700935 26154.20560748 26240.65420561\n",
            " 26327.10280374 26413.55140187 26500.         26586.44859813\n",
            " 26672.89719626 26759.34579439 26845.79439252 26932.24299065\n",
            " 27018.69158879 27105.14018692 27191.58878505 27278.03738318\n",
            " 27364.48598131 27450.93457944 27537.38317757 27623.8317757\n",
            " 27710.28037383 27796.72897196 27883.17757009 27969.62616822\n",
            " 28056.07476636 28142.52336449 28228.97196262 28315.42056075\n",
            " 28401.86915888 28488.31775701 28574.76635514 28661.21495327\n",
            " 28747.6635514  28834.11214953 28920.56074766 29007.00934579\n",
            " 29093.45794393 29179.90654206 29266.35514019 29352.80373832\n",
            " 29439.25233645 29525.70093458 29612.14953271 29698.59813084\n",
            " 29785.04672897 29871.4953271  29957.94392523 30044.39252336\n",
            " 30130.8411215  30217.28971963 30303.73831776 30390.18691589\n",
            " 30476.63551402 30563.08411215 30649.53271028 30735.98130841\n",
            " 30822.42990654 30908.87850467 30995.3271028  31081.77570093\n",
            " 31168.22429907 31254.6728972  31341.12149533 31427.57009346\n",
            " 31514.01869159 31600.46728972 31686.91588785 31773.36448598\n",
            " 31859.81308411 31946.26168224 32032.71028037 32119.1588785\n",
            " 32205.60747664 32292.05607477 32378.5046729  32464.95327103\n",
            " 32551.40186916 32637.85046729 32724.29906542 32810.74766355\n",
            " 32897.19626168 32983.64485981 33070.09345794 33156.54205607\n",
            " 33242.99065421 33329.43925234 33415.88785047 33502.3364486\n",
            " 33588.78504673 33675.23364486 33761.68224299 33848.13084112\n",
            " 33934.57943925 34021.02803738 34107.47663551 34193.92523364\n",
            " 34280.37383178 34366.82242991 34453.27102804 34539.71962617\n",
            " 34626.1682243  34712.61682243 34799.06542056 34885.51401869\n",
            " 34971.96261682 35058.41121495 35144.85981308 35231.30841121\n",
            " 35317.75700935 35404.20560748 35490.65420561 35577.10280374\n",
            " 35663.55140187 35750.         35836.44859813 35922.89719626\n",
            " 36009.34579439 36095.79439252 36182.24299065 36268.69158879\n",
            " 36355.14018692 36441.58878505 36528.03738318 36614.48598131\n",
            " 36700.93457944 36787.38317757 36873.8317757  36960.28037383\n",
            " 37046.72897196 37133.17757009 37219.62616822 37306.07476636\n",
            " 37392.52336449 37478.97196262 37565.42056075 37651.86915888\n",
            " 37738.31775701 37824.76635514 37911.21495327 37997.6635514\n",
            " 38084.11214953 38170.56074766 38257.00934579 38343.45794393\n",
            " 38429.90654206 38516.35514019 38602.80373832 38689.25233645\n",
            " 38775.70093458 38862.14953271 38948.59813084 39035.04672897\n",
            " 39121.4953271  39207.94392523 39294.39252336 39380.8411215\n",
            " 39467.28971963 39553.73831776 39640.18691589 39726.63551402\n",
            " 39813.08411215 39899.53271028 39985.98130841 40072.42990654\n",
            " 40158.87850467 40245.3271028  40331.77570093 40418.22429907\n",
            " 40504.6728972  40591.12149533 40677.57009346 40764.01869159\n",
            " 40850.46728972 40936.91588785 41023.36448598 41109.81308411\n",
            " 41196.26168224 41282.71028037 41369.1588785  41455.60747664\n",
            " 41542.05607477 41628.5046729  41714.95327103 41801.40186916\n",
            " 41887.85046729 41974.29906542 42060.74766355 42147.19626168\n",
            " 42233.64485981 42320.09345794 42406.54205607 42492.99065421\n",
            " 42579.43925234 42665.88785047 42752.3364486  42838.78504673\n",
            " 42925.23364486 43011.68224299 43098.13084112 43184.57943925\n",
            " 43271.02803738 43357.47663551 43443.92523364 43530.37383178\n",
            " 43616.82242991 43703.27102804 43789.71962617 43876.1682243\n",
            " 43962.61682243 44049.06542056 44135.51401869 44221.96261682\n",
            " 44308.41121495 44394.85981308 44481.30841121 44567.75700935\n",
            " 44654.20560748 44740.65420561 44827.10280374 44913.55140187\n",
            " 45000.        ]\n",
            "Average of the list = 26500.0\n",
            "max_y 6826.0\n",
            "min_x 178\n",
            "max_x 234\n",
            "fwhm 4841.121495327103\n"
          ]
        },
        {
          "output_type": "display_data",
          "data": {
            "text/plain": [
              "<Figure size 432x288 with 1 Axes>"
            ],
            "image/png": "[encoded data removed]"
          },
          "metadata": {
            "needs_background": "light"
          }
        },
        {
          "output_type": "stream",
          "name": "stdout",
          "text": [
            "thresh 30620.10340027837\n"
          ]
        }
      ],
      "source": [
        "import numpy as np\n",
        "import skimage.color\n",
        "import skimage.io\n",
        "import matplotlib.pyplot as plt\n",
        "import cv2\n",
        "from skimage import color\n",
        "from skimage import io\n",
        "from scipy.interpolate import splrep, sproot, splev\n",
        "from matplotlib import pyplot as mp\n",
        "import numpy as np\n",
        "\n",
        "#plot histogram\n",
        "(y, x, patches) = plt.hist(final_gm_array.ravel(), bins='auto', range=(8000, 45000))\n",
        "print (\"y\" , y)\n",
        "print (\"x\", x)\n",
        "half_max = max(y) / 2.\n",
        "######################\n",
        "#for calculating thershold we use this function:c = 2\n",
        "#standard_deviation = fwhm/2.35\n",
        "#thresh = average + c*standard_deviation\n",
        "\n",
        "########first find mean value of x\n",
        "def Average(x):\n",
        "    return sum(x) / len(x)\n",
        "  \n",
        "# Driver Code\n",
        "average = Average(x)\n",
        "  \n",
        "# Printing average of the list\n",
        "print(\"Average of the list =\", round(average, 2))\n",
        "####################calculation fwhm\n",
        "max_y = max(y)  # Find the maximum y value\n",
        "print (\"max_y\", max_y)\n",
        "max_y = max(y)  # Find the maximum y value\n",
        "xs = [x for x in range(428) if y[x] > max_y/2.0]\n",
        "min_x = min(xs) # Print the points at half-maximum\n",
        "print(\"min_x\", min_x)\n",
        "max_x = max(xs)\n",
        "print(\"max_x\", max_x)\n",
        "fwhm = (max_x - min_x)*37000/428\n",
        "print(\"fwhm\", fwhm)\n",
        "#######################\n",
        "\n",
        "\n",
        "import cv2\n",
        "plt.show()\n",
        "import numpy as np\n",
        "import scipy.optimize as opt\n",
        "import numpy as np\n",
        "import scipy.optimize as opt\n",
        "\n",
        "c = 2\n",
        "standard_deviation = fwhm/2.35\n",
        "thresh = average + c*standard_deviation\n",
        "print (\"thresh\",thresh)\n",
        "ret , lesion = cv2.threshold(final_gm_array, thresh, 255, cv2.THRESH_BINARY)\n"
      ]
    },
    {
      "cell_type": "code",
      "source": [
        "mid_slice_x = final_gm_array[: ,:, 90]\n",
        "thr_img=(mid_slice_x.T>thresh)\n",
        "\n",
        "plt.imshow(thr_img, cmap='gray', origin='lower')\n",
        "plt.xlabel('First axis')\n",
        "plt.ylabel('Second axis')\n",
        "plt.colorbar(label='Signal intensity')\n",
        "plt.show()\n",
        "#median filter to remove noise = cv2.medianBlur(thr_img,3)\n",
        "from scipy.ndimage import median_filter\n",
        "median = median_filter(thr_img, size=(3, 3), cval=0, mode='constant')\n",
        "plt.imshow(median, cmap='gray', origin='lower')\n",
        "plt.xlabel('First axis')\n",
        "plt.ylabel('Second axis')\n",
        "plt.colorbar(label='Signal intensity')\n",
        "plt.show()\n"
      ],
      "metadata": {
        "colab": {
          "base_uri": "https://localhost:8080/",
          "height": 549
        },
        "id": "bPR_noPSU2i2",
        "outputId": "9e4d329e-3e99-4231-a9c7-89717ed6b451"
      },
      "execution_count": 14,
      "outputs": [
        {
          "output_type": "display_data",
          "data": {
            "text/plain": [
              "<Figure size 432x288 with 2 Axes>"
            ],
            "image/png": "[encoded data removed]"
          },
          "metadata": {
            "needs_background": "light"
          }
        },
        {
          "output_type": "display_data",
          "data": {
            "text/plain": [
              "<Figure size 432x288 with 2 Axes>"
            ],
            "image/png": "[encoded data removed]"
          },
          "metadata": {
            "needs_background": "light"
          }
        }
      ]
    }
  ],
  "metadata": {
    "colab": {
      "name": "finallll.ipynb",
      "provenance": [],
      "collapsed_sections": [],
      "include_colab_link": true
    },
    "kernelspec": {
      "display_name": "Python 3",
      "name": "python3"
    },
    "language_info": {
      "name": "python"
    }
  },
  "nbformat": 4,
  "nbformat_minor": 0
}